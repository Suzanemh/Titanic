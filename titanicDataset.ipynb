{
 "cells": [
  {
   "cell_type": "code",
   "execution_count": 1,
   "metadata": {},
   "outputs": [],
   "source": [
    "#Import modules\n",
    "%matplotlib inline\n",
    "import pandas as pd\n",
    "import numpy as np\n",
    "import matplotlib.pyplot as plt\n",
    "import seaborn as sns\n",
    "import re\n",
    "from scipy import stats\n",
    "import matplotlib as plt\n"
   ]
  },
  {
   "cell_type": "code",
   "execution_count": 4,
   "metadata": {},
   "outputs": [
    {
     "name": "stdout",
     "output_type": "stream",
     "text": [
      "<class 'pandas.core.frame.DataFrame'>\n",
      "RangeIndex: 1309 entries, 0 to 1308\n",
      "Data columns (total 11 columns):\n",
      " #   Column       Non-Null Count  Dtype  \n",
      "---  ------       --------------  -----  \n",
      " 0   PassengerId  1309 non-null   int64  \n",
      " 1   Pclass       1309 non-null   int64  \n",
      " 2   Name         1309 non-null   object \n",
      " 3   Sex          1309 non-null   object \n",
      " 4   Age          1046 non-null   float64\n",
      " 5   SibSp        1309 non-null   int64  \n",
      " 6   Parch        1309 non-null   int64  \n",
      " 7   Ticket       1309 non-null   object \n",
      " 8   Fare         1308 non-null   float64\n",
      " 9   Cabin        295 non-null    object \n",
      " 10  Embarked     1307 non-null   object \n",
      "dtypes: float64(2), int64(4), object(5)\n",
      "memory usage: 112.6+ KB\n",
      "      PassengerId  Pclass                                               Name  \\\n",
      "0               1       3                            Braund, Mr. Owen Harris   \n",
      "1               2       1  Cumings, Mrs. John Bradley (Florence Briggs Th...   \n",
      "2               3       3                             Heikkinen, Miss. Laina   \n",
      "3               4       1       Futrelle, Mrs. Jacques Heath (Lily May Peel)   \n",
      "4               5       3                           Allen, Mr. William Henry   \n",
      "...           ...     ...                                                ...   \n",
      "1304         1305       3                                 Spector, Mr. Woolf   \n",
      "1305         1306       1                       Oliva y Ocana, Dona. Fermina   \n",
      "1306         1307       3                       Saether, Mr. Simon Sivertsen   \n",
      "1307         1308       3                                Ware, Mr. Frederick   \n",
      "1308         1309       3                           Peter, Master. Michael J   \n",
      "\n",
      "         Sex   Age  SibSp  Parch              Ticket      Fare Cabin Embarked  \n",
      "0       male  22.0      1      0           A/5 21171    7.2500   NaN        S  \n",
      "1     female  38.0      1      0            PC 17599   71.2833   C85        C  \n",
      "2     female  26.0      0      0    STON/O2. 3101282    7.9250   NaN        S  \n",
      "3     female  35.0      1      0              113803   53.1000  C123        S  \n",
      "4       male  35.0      0      0              373450    8.0500   NaN        S  \n",
      "...      ...   ...    ...    ...                 ...       ...   ...      ...  \n",
      "1304    male   NaN      0      0           A.5. 3236    8.0500   NaN        S  \n",
      "1305  female  39.0      0      0            PC 17758  108.9000  C105        C  \n",
      "1306    male  38.5      0      0  SOTON/O.Q. 3101262    7.2500   NaN        S  \n",
      "1307    male   NaN      0      0              359309    8.0500   NaN        S  \n",
      "1308    male   NaN      1      1                2668   22.3583   NaN        C  \n",
      "\n",
      "[1309 rows x 11 columns]\n"
     ]
    }
   ],
   "source": [
    "#import cvs fil som er hentet fra OsloMet Canvas siden\n",
    "df = pd.read_csv('https://raw.githubusercontent.com/atikagondal/Lab-2023-DAVE3625/main/Lab%202/data/Titanic.csv')\n",
    "df.info()\n",
    "print(df)"
   ]
  },
  {
   "cell_type": "code",
   "execution_count": 5,
   "metadata": {},
   "outputs": [
    {
     "data": {
      "text/plain": [
       "PassengerId       0\n",
       "Pclass            0\n",
       "Name              0\n",
       "Sex               0\n",
       "Age             263\n",
       "SibSp             0\n",
       "Parch             0\n",
       "Ticket            0\n",
       "Fare              1\n",
       "Cabin          1014\n",
       "Embarked          2\n",
       "dtype: int64"
      ]
     },
     "execution_count": 5,
     "metadata": {},
     "output_type": "execute_result"
    }
   ],
   "source": [
    "#Check for null and nan values\n",
    "df.isna().sum()\n"
   ]
  },
  {
   "cell_type": "code",
   "execution_count": 1,
   "metadata": {},
   "outputs": [
    {
     "ename": "NameError",
     "evalue": "name 'df' is not defined",
     "output_type": "error",
     "traceback": [
      "\u001b[0;31m---------------------------------------------------------------------------\u001b[0m",
      "\u001b[0;31mNameError\u001b[0m                                 Traceback (most recent call last)",
      "\u001b[1;32m/Users/suzane/Documents/Titanic/titanicDataset.ipynb Cell 4\u001b[0m line \u001b[0;36m3\n\u001b[1;32m      <a href='vscode-notebook-cell:/Users/suzane/Documents/Titanic/titanicDataset.ipynb#W3sZmlsZQ%3D%3D?line=0'>1</a>\u001b[0m \u001b[39m#Fill Age, Fare and Embarked with sensible values.\u001b[39;00m\n\u001b[1;32m      <a href='vscode-notebook-cell:/Users/suzane/Documents/Titanic/titanicDataset.ipynb#W3sZmlsZQ%3D%3D?line=1'>2</a>\u001b[0m \u001b[39m##Fill missing values - for this lab, lets just use teh median() function\u001b[39;00m\n\u001b[0;32m----> <a href='vscode-notebook-cell:/Users/suzane/Documents/Titanic/titanicDataset.ipynb#W3sZmlsZQ%3D%3D?line=2'>3</a>\u001b[0m df[\u001b[39m\"\u001b[39m\u001b[39mAge\u001b[39m\u001b[39m\"\u001b[39m] \u001b[39m=\u001b[39m df[\u001b[39m\"\u001b[39m\u001b[39mAge\u001b[39m\u001b[39m\"\u001b[39m]\u001b[39m.\u001b[39mfillna(df[\u001b[39m\"\u001b[39m\u001b[39mAge\u001b[39m\u001b[39m\"\u001b[39m]\u001b[39m.\u001b[39mmedian())\n\u001b[1;32m      <a href='vscode-notebook-cell:/Users/suzane/Documents/Titanic/titanicDataset.ipynb#W3sZmlsZQ%3D%3D?line=3'>4</a>\u001b[0m df[\u001b[39m\"\u001b[39m\u001b[39mFare\u001b[39m\u001b[39m\"\u001b[39m] \u001b[39m=\u001b[39m df[\u001b[39m\"\u001b[39m\u001b[39mFare\u001b[39m\u001b[39m\"\u001b[39m]\u001b[39m.\u001b[39mfillna(df[\u001b[39m\"\u001b[39m\u001b[39mFare\u001b[39m\u001b[39m\"\u001b[39m]\u001b[39m.\u001b[39mmedian())\n",
      "\u001b[0;31mNameError\u001b[0m: name 'df' is not defined"
     ]
    }
   ],
   "source": [
    "#Fill Age, Fare and Embarked with sensible values.\n",
    "##Fill missing values - for this lab, lets just use teh median() function\n",
    "df[\"Age\"] = df[\"Age\"].fillna(df[\"Age\"].median())\n",
    "df[\"Fare\"] = df[\"Fare\"].fillna(df[\"Fare\"].median())\n",
    "\n"
   ]
  }
 ],
 "metadata": {
  "kernelspec": {
   "display_name": "dave3625",
   "language": "python",
   "name": "python3"
  },
  "language_info": {
   "codemirror_mode": {
    "name": "ipython",
    "version": 3
   },
   "file_extension": ".py",
   "mimetype": "text/x-python",
   "name": "python",
   "nbconvert_exporter": "python",
   "pygments_lexer": "ipython3",
   "version": "3.8.17"
  },
  "orig_nbformat": 4
 },
 "nbformat": 4,
 "nbformat_minor": 2
}
